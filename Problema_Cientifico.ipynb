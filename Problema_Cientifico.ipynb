{
 "cells": [
  {
   "cell_type": "code",
   "execution_count": 4,
   "metadata": {},
   "outputs": [],
   "source": [
    "# Librerias\n",
    "import numpy as np\n",
    "import matplotlib.pyplot as plt\n",
    "import pandas as pd"
   ]
  },
  {
   "cell_type": "markdown",
   "metadata": {},
   "source": [
    "# Calculo de la tasa de crecimiento del año 2016 "
   ]
  },
  {
   "cell_type": "code",
   "execution_count": 5,
   "metadata": {},
   "outputs": [
    {
     "data": {
      "text/plain": [
       "20816"
      ]
     },
     "execution_count": 5,
     "metadata": {},
     "output_type": "execute_result"
    }
   ],
   "source": [
    "#Leemos la base de datos de enero\n",
    "D2016 = pd.read_csv('2016\\Enero2016.csv')\n",
    "#Contamos la cantidad de automoviles de enero de 2016 \n",
    "sv = D2016.Distintivo\n",
    "sv = sv.count()\n",
    "sv"
   ]
  },
  {
   "cell_type": "code",
   "execution_count": 6,
   "metadata": {},
   "outputs": [
    {
     "data": {
      "text/plain": [
       "26644"
      ]
     },
     "execution_count": 6,
     "metadata": {},
     "output_type": "execute_result"
    }
   ],
   "source": [
    "#Contamos la cantidad de automoviles de diciembre de 2016 \n",
    "Di2016 = pd.read_csv('2016\\Diciembre2016.csv')\n",
    "fv = Di2016.Distintivo \n",
    "fv = fv.count()\n",
    "fv"
   ]
  },
  {
   "cell_type": "code",
   "execution_count": 7,
   "metadata": {},
   "outputs": [
    {
     "data": {
      "text/plain": [
       "27.99769408147579"
      ]
     },
     "execution_count": 7,
     "metadata": {},
     "output_type": "execute_result"
    }
   ],
   "source": [
    "#Se usa la formula de tasa de crecimiento (FinalValue - StartValue/StartValue)\n",
    "D = ((fv - sv)/sv)*100\n",
    "D\n",
    "#Como podemos ver hay una tasa de crecimiento de del 28% en el año de 2016 a partir de enero a diciembre "
   ]
  },
  {
   "cell_type": "markdown",
   "metadata": {},
   "source": [
    "# Calculo de la tasa de crecimiento del año 2017 "
   ]
  },
  {
   "cell_type": "code",
   "execution_count": 44,
   "metadata": {},
   "outputs": [
    {
     "data": {
      "text/plain": [
       "20870"
      ]
     },
     "execution_count": 44,
     "metadata": {},
     "output_type": "execute_result"
    }
   ],
   "source": [
    "#Leemos la base de datos de enero\n",
    "#D2017 = pd.read_csv('2017\\Enero2017.csv')\n",
    "#Contamos la cantidad de automoviles de enero de 2017 \n",
    "sv2 = 20870\n",
    "sv2"
   ]
  },
  {
   "cell_type": "code",
   "execution_count": 45,
   "metadata": {},
   "outputs": [
    {
     "data": {
      "text/plain": [
       "36923"
      ]
     },
     "execution_count": 45,
     "metadata": {},
     "output_type": "execute_result"
    }
   ],
   "source": [
    "#Contamos la cantidad de automoviles de diciembre de 2017\n",
    "Di2017 = pd.read_csv('2017\\Diciembre2017.csv')\n",
    "fv2 = Di2017.Distintivo \n",
    "fv2 = fv2.count()\n",
    "fv2"
   ]
  },
  {
   "cell_type": "code",
   "execution_count": 46,
   "metadata": {},
   "outputs": [
    {
     "data": {
      "text/plain": [
       "76.91902252036415"
      ]
     },
     "execution_count": 46,
     "metadata": {},
     "output_type": "execute_result"
    }
   ],
   "source": [
    "#Se usa la formula de tasa de crecimiento (FinalValue - StartValue/StartValue)\n",
    "D2 = ((fv2 - sv2)/sv2)*100\n",
    "D2\n",
    "#Como podemos ver hay una tasa de crecimiento de del 84.08% en el año de 2017 a partir de enero a diciembre "
   ]
  },
  {
   "cell_type": "markdown",
   "metadata": {},
   "source": [
    "# Calculo de la tasa de crecimiento del año 2018 "
   ]
  },
  {
   "cell_type": "code",
   "execution_count": 18,
   "metadata": {},
   "outputs": [
    {
     "data": {
      "text/plain": [
       "29999"
      ]
     },
     "execution_count": 18,
     "metadata": {},
     "output_type": "execute_result"
    }
   ],
   "source": [
    "#Leemos la base de datos de enero\n",
    "D2018 = pd.read_csv('2018\\Enero2018.csv')\n",
    "#Contamos la cantidad de automoviles de enero de 2017\n",
    "sv3 = D2018.Distintivo\n",
    "sv3 = sv3.count()\n",
    "sv3"
   ]
  },
  {
   "cell_type": "code",
   "execution_count": 29,
   "metadata": {},
   "outputs": [
    {
     "data": {
      "text/plain": [
       "28859"
      ]
     },
     "execution_count": 29,
     "metadata": {},
     "output_type": "execute_result"
    }
   ],
   "source": [
    "#Contamos la cantidad de automoviles de diciembre de 2018\n",
    "Di2018 = pd.read_csv('2018\\Diciembre2018.csv')\n",
    "fv3 = Di2018.Distintivo\n",
    "fv3 = fv3.count()\n",
    "fv3"
   ]
  },
  {
   "cell_type": "code",
   "execution_count": 30,
   "metadata": {},
   "outputs": [
    {
     "data": {
      "text/plain": [
       "-3.80012667088903"
      ]
     },
     "execution_count": 30,
     "metadata": {},
     "output_type": "execute_result"
    }
   ],
   "source": [
    "#Se usa la formula de tasa de crecimiento (FinalValue - StartValue/StartValue)\n",
    "D3 = ((fv3 - sv3)/sv3)*100\n",
    "D3\n",
    "#Como podemos ver hay una tasa de crecimiento del -3.80% en el año de 2018 a partir de enero a diciembre, \n",
    "#curiosamente de enero a diciembre hubo un crecimiento negativo a diferencia de los otros años. "
   ]
  },
  {
   "cell_type": "markdown",
   "metadata": {},
   "source": [
    "# Calculo de la tasa de crecimiento del año 2019 "
   ]
  },
  {
   "cell_type": "code",
   "execution_count": 31,
   "metadata": {},
   "outputs": [
    {
     "data": {
      "text/plain": [
       "26850"
      ]
     },
     "execution_count": 31,
     "metadata": {},
     "output_type": "execute_result"
    }
   ],
   "source": [
    "#Leemos la base de datos de enero\n",
    "D2019 = pd.read_csv('2019\\Enero2019.csv')\n",
    "#Contamos la cantidad de automoviles de enero de 2017\n",
    "sv4 = D2019.Distintivo\n",
    "sv4 = sv4.count()\n",
    "sv4"
   ]
  },
  {
   "cell_type": "code",
   "execution_count": 32,
   "metadata": {},
   "outputs": [
    {
     "data": {
      "text/plain": [
       "37387"
      ]
     },
     "execution_count": 32,
     "metadata": {},
     "output_type": "execute_result"
    }
   ],
   "source": [
    "#Contamos la cantidad de automoviles de diciembre de 2019\n",
    "Di2019 = pd.read_csv('2019\\Diciembre2019.csv')\n",
    "fv4 = Di2019.Distintivo \n",
    "fv4 = fv4.count()\n",
    "fv4"
   ]
  },
  {
   "cell_type": "code",
   "execution_count": 33,
   "metadata": {},
   "outputs": [
    {
     "data": {
      "text/plain": [
       "39.243947858473"
      ]
     },
     "execution_count": 33,
     "metadata": {},
     "output_type": "execute_result"
    }
   ],
   "source": [
    "#Se usa la formula de tasa de crecimiento (FinalValue - StartValue/StartValue)\n",
    "D4 = ((fv4 - sv4)/sv4)*100\n",
    "D4\n",
    "#Como podemos ver hay una tasa de crecimiento del 39.24% en el año de 2018 a partir de enero a diciembre"
   ]
  },
  {
   "cell_type": "markdown",
   "metadata": {},
   "source": [
    "# Comparación de los años "
   ]
  },
  {
   "cell_type": "code",
   "execution_count": 47,
   "metadata": {},
   "outputs": [
    {
     "data": {
      "image/png": "[encoded data removed]",
      "text/plain": [
       "<Figure size 432x288 with 1 Axes>"
      ]
     },
     "metadata": {
      "needs_background": "light"
     },
     "output_type": "display_data"
    }
   ],
   "source": [
    "#Hacemos una gráfica para comparar las tasas de crecimiento anual\n",
    "lista1 = [D,D2,D3,D4]   \n",
    "plt.plot(lista1)   \n",
    "plt.title(\"Comparación de las tasas de crecimiento de los ultimos 4 años\")   \n",
    "plt.xlabel(\"Año\")   \n",
    "plt.ylabel(\"Porcentaje %\")\n",
    "indice = np.arange(4)\n",
    "plt.xticks(indice, (\"2016\", \"2017\", \"2018\", \"2019\")) \n",
    "plt.plot(lista1, marker='o', linestyle='--', color='red')\n",
    "plt.show()"
   ]
  },
  {
   "cell_type": "code",
   "execution_count": 79,
   "metadata": {},
   "outputs": [
    {
     "data": {
      "text/plain": [
       "307057"
      ]
     },
     "execution_count": 79,
     "metadata": {},
     "output_type": "execute_result"
    }
   ],
   "source": [
    "#Unimos todas las bases de todos los meses para contar la cantidad total de carros traidos al pais en este año\n",
    "A2016 = pd.read_csv('2016\\Enero2016.csv')\n",
    "a1 = A2016.Distintivo\n",
    "a1 = a1.count()\n",
    "\n",
    "A2016 = pd.read_csv('2016\\Febrero2016.csv')\n",
    "a2 = A2016.Distintivo\n",
    "a2 = a2.count()\n",
    "\n",
    "A2016 = pd.read_csv('2016\\Marzo2016.csv')\n",
    "a3 = A2016.Distintivo\n",
    "a3 = a3.count()\n",
    "\n",
    "A2016 = pd.read_csv('2016\\Mayo2016.csv')\n",
    "a5 = A2016.Distintivo\n",
    "a5 = a5.count()\n",
    "\n",
    "A2016 = pd.read_csv('2016\\Junio2016.csv')\n",
    "a6 = A2016.Distintivo\n",
    "a6 = a6.count()\n",
    "\n",
    "A2016 = pd.read_csv('2016\\Julio2016.csv')\n",
    "a7 = A2016.Distintivo\n",
    "a7 = a7.count()\n",
    "\n",
    "A2016 = pd.read_csv('2016\\Agosto2016.csv')\n",
    "a8 = A2016.Distintivo\n",
    "a8 = a8.count()\n",
    "\n",
    "A2016 = pd.read_csv('2016\\Octubre2016.csv')\n",
    "a10 = A2016.Distintivo\n",
    "a10 = a10.count()\n",
    "\n",
    "A2016 = pd.read_csv('2016\\Diciembre2016.csv')\n",
    "a12 = A2016.Distintivo\n",
    "a12 = a12.count()\n",
    "\n",
    "r = a1 + a2 + a3 + 21535 + a5 + a6 + a7 + a8 + 27528 + a10 + 34188 + a12\n",
    "r"
   ]
  },
  {
   "cell_type": "code",
   "execution_count": 80,
   "metadata": {},
   "outputs": [
    {
     "data": {
      "text/plain": [
       "336430"
      ]
     },
     "execution_count": 80,
     "metadata": {},
     "output_type": "execute_result"
    }
   ],
   "source": [
    "#Unimos todas las bases de todos los meses para contar la cantidad total de carros traidos al pais en este año\n",
    "A2017 = pd.read_csv('2017\\Febrero2017.csv')\n",
    "b2 = A2017.Distintivo\n",
    "b2 = b2.count()\n",
    "\n",
    "A2017 = pd.read_csv('2017\\Marzo2017.csv')\n",
    "b3 = A2017.Distintivo\n",
    "b3 = b3.count()\n",
    "\n",
    "A2017 = pd.read_csv('2017\\Abril2017.csv')\n",
    "b4 = A2017.Distintivo\n",
    "b4 = b4.count()\n",
    "\n",
    "A2017 = pd.read_csv('2017\\Mayo2017.csv')\n",
    "b5 = A2017.Distintivo\n",
    "b5 = b5.count()\n",
    "\n",
    "A2017 = pd.read_csv('2017\\Junio2017.csv')\n",
    "b6 = A2017.Distintivo\n",
    "b6 = b6.count()\n",
    "\n",
    "A2017 = pd.read_csv('2017\\Julio2017.csv')\n",
    "b7 = A2017.Distintivo\n",
    "b7 = b7.count()\n",
    "\n",
    "A2017 = pd.read_csv('2017\\Agosto2017.csv')\n",
    "b8 = A2017.Distintivo\n",
    "b8 = b8.count()\n",
    "\n",
    "A2017 = pd.read_csv('2017\\Septiembre2017.csv')\n",
    "b9 = A2017.Distintivo\n",
    "b9 = b9.count()\n",
    "\n",
    "A2017 = pd.read_csv('2017\\Octubre2017.csv')\n",
    "b10 = A2017.Distintivo\n",
    "b10 = b10.count()\n",
    "\n",
    "A2017 = pd.read_csv('2017\\_Noviembre2017.csv')\n",
    "b11 = A2017.Distintivo\n",
    "b11 = b11.count()\n",
    "\n",
    "A2017 = pd.read_csv('2017\\Diciembre2017.csv')\n",
    "b12 = A2017.Distintivo\n",
    "b12 = b12.count()\n",
    "\n",
    "r2 = 20870 + b2 + b3 + b4 + b5 + b6 + b7 + b8 + b9 + b10 + b11 + b12\n",
    "r2"
   ]
  },
  {
   "cell_type": "code",
   "execution_count": 83,
   "metadata": {},
   "outputs": [
    {
     "data": {
      "text/plain": [
       "332373"
      ]
     },
     "execution_count": 83,
     "metadata": {},
     "output_type": "execute_result"
    }
   ],
   "source": [
    "#Unimos todas las bases de todos los meses para contar la cantidad total de carros traidos al pais en este año\n",
    "A2018 = pd.read_csv('2018\\Enero2018.csv')\n",
    "c1 = A2018.Distintivo\n",
    "c1 = c1.count()\n",
    "\n",
    "A2018 = pd.read_csv('2018\\Febrero2018.csv')\n",
    "c2 = A2018.Distintivo\n",
    "c2 = c2.count()\n",
    "\n",
    "A2018 = pd.read_csv('2018\\Marzo2018.csv')\n",
    "c3 = A2018.Distintivo\n",
    "c3 = c3.count()\n",
    "\n",
    "A2018 = pd.read_csv('2018\\Abril2018.csv')\n",
    "c4 = A2018.Distintivo\n",
    "c4 = c4.count()\n",
    "\n",
    "A2018 = pd.read_csv('2018\\Mayo2018.csv')\n",
    "c5 = A2018.Distintivo\n",
    "c5 = c5.count()\n",
    "\n",
    "A2018 = pd.read_csv('2018\\Junio2018.csv')\n",
    "c6 = A2018.Distintivo\n",
    "c6 = c6.count()\n",
    "\n",
    "A2018 = pd.read_csv('2018\\Julio2018.csv')\n",
    "c7 = A2018.Distintivo\n",
    "c7 = c7.count()\n",
    "\n",
    "A2018 = pd.read_csv('2018\\Agosto2018.csv')\n",
    "c8 = A2018.Distintivo\n",
    "c8 = c8.count()\n",
    "\n",
    "A2018 = pd.read_csv('2018\\Septiembre2018.csv')\n",
    "c9 = A2018.Distintivo\n",
    "c9 = c9.count()\n",
    "\n",
    "A2018 = pd.read_csv('2018\\Octubre2018.csv')\n",
    "c10 = A2018.Distintivo\n",
    "c10 = c10.count()\n",
    "\n",
    "A2018 = pd.read_csv('2018\\_Noviembre2018.csv')\n",
    "c11 = A2018.Distintivo\n",
    "c11 = c11.count()\n",
    "\n",
    "A2018 = pd.read_csv('2018\\Diciembre2018.csv')\n",
    "c12 = A2018.Distintivo\n",
    "c12 = c12.count()\n",
    "\n",
    "r3 = c1 + c2 + c3 + c4 + c5 + c6 + c7 + c8 + c9 + c10 + c11 + c12\n",
    "r3"
   ]
  },
  {
   "cell_type": "code",
   "execution_count": 76,
   "metadata": {},
   "outputs": [
    {
     "ename": "FileNotFoundError",
     "evalue": "[Errno 2] File 2019\\Febrero2019.csv does not exist: '2019\\\\Febrero2019.csv'",
     "output_type": "error",
     "traceback": [
      "\u001b[1;31m---------------------------------------------------------------------------\u001b[0m",
      "\u001b[1;31mFileNotFoundError\u001b[0m                         Traceback (most recent call last)",
      "\u001b[1;32m<ipython-input-76-4b5723abb776>\u001b[0m in \u001b[0;36m<module>\u001b[1;34m\u001b[0m\n\u001b[0;32m      4\u001b[0m \u001b[0md1\u001b[0m \u001b[1;33m=\u001b[0m \u001b[0md1\u001b[0m\u001b[1;33m.\u001b[0m\u001b[0mcount\u001b[0m\u001b[1;33m(\u001b[0m\u001b[1;33m)\u001b[0m\u001b[1;33m\u001b[0m\u001b[1;33m\u001b[0m\u001b[0m\n\u001b[0;32m      5\u001b[0m \u001b[1;33m\u001b[0m\u001b[0m\n\u001b[1;32m----> 6\u001b[1;33m \u001b[0mA2019\u001b[0m \u001b[1;33m=\u001b[0m \u001b[0mpd\u001b[0m\u001b[1;33m.\u001b[0m\u001b[0mread_csv\u001b[0m\u001b[1;33m(\u001b[0m\u001b[1;34m'2019\\Febrero2019.csv'\u001b[0m\u001b[1;33m)\u001b[0m\u001b[1;33m\u001b[0m\u001b[1;33m\u001b[0m\u001b[0m\n\u001b[0m\u001b[0;32m      7\u001b[0m \u001b[0md2\u001b[0m \u001b[1;33m=\u001b[0m \u001b[0mA2019\u001b[0m\u001b[1;33m.\u001b[0m\u001b[0mDistintivo\u001b[0m\u001b[1;33m\u001b[0m\u001b[1;33m\u001b[0m\u001b[0m\n\u001b[0;32m      8\u001b[0m \u001b[0md2\u001b[0m \u001b[1;33m=\u001b[0m \u001b[0md2\u001b[0m\u001b[1;33m.\u001b[0m\u001b[0mcount\u001b[0m\u001b[1;33m(\u001b[0m\u001b[1;33m)\u001b[0m\u001b[1;33m\u001b[0m\u001b[1;33m\u001b[0m\u001b[0m\n",
      "\u001b[1;32mc:\\users\\axelt\\appdata\\local\\programs\\python\\python37-32\\lib\\site-packages\\pandas\\io\\parsers.py\u001b[0m in \u001b[0;36mparser_f\u001b[1;34m(filepath_or_buffer, sep, delimiter, header, names, index_col, usecols, squeeze, prefix, mangle_dupe_cols, dtype, engine, converters, true_values, false_values, skipinitialspace, skiprows, skipfooter, nrows, na_values, keep_default_na, na_filter, verbose, skip_blank_lines, parse_dates, infer_datetime_format, keep_date_col, date_parser, dayfirst, cache_dates, iterator, chunksize, compression, thousands, decimal, lineterminator, quotechar, quoting, doublequote, escapechar, comment, encoding, dialect, error_bad_lines, warn_bad_lines, delim_whitespace, low_memory, memory_map, float_precision)\u001b[0m\n\u001b[0;32m    674\u001b[0m         )\n\u001b[0;32m    675\u001b[0m \u001b[1;33m\u001b[0m\u001b[0m\n\u001b[1;32m--> 676\u001b[1;33m         \u001b[1;32mreturn\u001b[0m \u001b[0m_read\u001b[0m\u001b[1;33m(\u001b[0m\u001b[0mfilepath_or_buffer\u001b[0m\u001b[1;33m,\u001b[0m \u001b[0mkwds\u001b[0m\u001b[1;33m)\u001b[0m\u001b[1;33m\u001b[0m\u001b[1;33m\u001b[0m\u001b[0m\n\u001b[0m\u001b[0;32m    677\u001b[0m \u001b[1;33m\u001b[0m\u001b[0m\n\u001b[0;32m    678\u001b[0m     \u001b[0mparser_f\u001b[0m\u001b[1;33m.\u001b[0m\u001b[0m__name__\u001b[0m \u001b[1;33m=\u001b[0m \u001b[0mname\u001b[0m\u001b[1;33m\u001b[0m\u001b[1;33m\u001b[0m\u001b[0m\n",
      "\u001b[1;32mc:\\users\\axelt\\appdata\\local\\programs\\python\\python37-32\\lib\\site-packages\\pandas\\io\\parsers.py\u001b[0m in \u001b[0;36m_read\u001b[1;34m(filepath_or_buffer, kwds)\u001b[0m\n\u001b[0;32m    446\u001b[0m \u001b[1;33m\u001b[0m\u001b[0m\n\u001b[0;32m    447\u001b[0m     \u001b[1;31m# Create the parser.\u001b[0m\u001b[1;33m\u001b[0m\u001b[1;33m\u001b[0m\u001b[1;33m\u001b[0m\u001b[0m\n\u001b[1;32m--> 448\u001b[1;33m     \u001b[0mparser\u001b[0m \u001b[1;33m=\u001b[0m \u001b[0mTextFileReader\u001b[0m\u001b[1;33m(\u001b[0m\u001b[0mfp_or_buf\u001b[0m\u001b[1;33m,\u001b[0m \u001b[1;33m**\u001b[0m\u001b[0mkwds\u001b[0m\u001b[1;33m)\u001b[0m\u001b[1;33m\u001b[0m\u001b[1;33m\u001b[0m\u001b[0m\n\u001b[0m\u001b[0;32m    449\u001b[0m \u001b[1;33m\u001b[0m\u001b[0m\n\u001b[0;32m    450\u001b[0m     \u001b[1;32mif\u001b[0m \u001b[0mchunksize\u001b[0m \u001b[1;32mor\u001b[0m \u001b[0miterator\u001b[0m\u001b[1;33m:\u001b[0m\u001b[1;33m\u001b[0m\u001b[1;33m\u001b[0m\u001b[0m\n",
      "\u001b[1;32mc:\\users\\axelt\\appdata\\local\\programs\\python\\python37-32\\lib\\site-packages\\pandas\\io\\parsers.py\u001b[0m in \u001b[0;36m__init__\u001b[1;34m(self, f, engine, **kwds)\u001b[0m\n\u001b[0;32m    878\u001b[0m             \u001b[0mself\u001b[0m\u001b[1;33m.\u001b[0m\u001b[0moptions\u001b[0m\u001b[1;33m[\u001b[0m\u001b[1;34m\"has_index_names\"\u001b[0m\u001b[1;33m]\u001b[0m \u001b[1;33m=\u001b[0m \u001b[0mkwds\u001b[0m\u001b[1;33m[\u001b[0m\u001b[1;34m\"has_index_names\"\u001b[0m\u001b[1;33m]\u001b[0m\u001b[1;33m\u001b[0m\u001b[1;33m\u001b[0m\u001b[0m\n\u001b[0;32m    879\u001b[0m \u001b[1;33m\u001b[0m\u001b[0m\n\u001b[1;32m--> 880\u001b[1;33m         \u001b[0mself\u001b[0m\u001b[1;33m.\u001b[0m\u001b[0m_make_engine\u001b[0m\u001b[1;33m(\u001b[0m\u001b[0mself\u001b[0m\u001b[1;33m.\u001b[0m\u001b[0mengine\u001b[0m\u001b[1;33m)\u001b[0m\u001b[1;33m\u001b[0m\u001b[1;33m\u001b[0m\u001b[0m\n\u001b[0m\u001b[0;32m    881\u001b[0m \u001b[1;33m\u001b[0m\u001b[0m\n\u001b[0;32m    882\u001b[0m     \u001b[1;32mdef\u001b[0m \u001b[0mclose\u001b[0m\u001b[1;33m(\u001b[0m\u001b[0mself\u001b[0m\u001b[1;33m)\u001b[0m\u001b[1;33m:\u001b[0m\u001b[1;33m\u001b[0m\u001b[1;33m\u001b[0m\u001b[0m\n",
      "\u001b[1;32mc:\\users\\axelt\\appdata\\local\\programs\\python\\python37-32\\lib\\site-packages\\pandas\\io\\parsers.py\u001b[0m in \u001b[0;36m_make_engine\u001b[1;34m(self, engine)\u001b[0m\n\u001b[0;32m   1112\u001b[0m     \u001b[1;32mdef\u001b[0m \u001b[0m_make_engine\u001b[0m\u001b[1;33m(\u001b[0m\u001b[0mself\u001b[0m\u001b[1;33m,\u001b[0m \u001b[0mengine\u001b[0m\u001b[1;33m=\u001b[0m\u001b[1;34m\"c\"\u001b[0m\u001b[1;33m)\u001b[0m\u001b[1;33m:\u001b[0m\u001b[1;33m\u001b[0m\u001b[1;33m\u001b[0m\u001b[0m\n\u001b[0;32m   1113\u001b[0m         \u001b[1;32mif\u001b[0m \u001b[0mengine\u001b[0m \u001b[1;33m==\u001b[0m \u001b[1;34m\"c\"\u001b[0m\u001b[1;33m:\u001b[0m\u001b[1;33m\u001b[0m\u001b[1;33m\u001b[0m\u001b[0m\n\u001b[1;32m-> 1114\u001b[1;33m             \u001b[0mself\u001b[0m\u001b[1;33m.\u001b[0m\u001b[0m_engine\u001b[0m \u001b[1;33m=\u001b[0m \u001b[0mCParserWrapper\u001b[0m\u001b[1;33m(\u001b[0m\u001b[0mself\u001b[0m\u001b[1;33m.\u001b[0m\u001b[0mf\u001b[0m\u001b[1;33m,\u001b[0m \u001b[1;33m**\u001b[0m\u001b[0mself\u001b[0m\u001b[1;33m.\u001b[0m\u001b[0moptions\u001b[0m\u001b[1;33m)\u001b[0m\u001b[1;33m\u001b[0m\u001b[1;33m\u001b[0m\u001b[0m\n\u001b[0m\u001b[0;32m   1115\u001b[0m         \u001b[1;32melse\u001b[0m\u001b[1;33m:\u001b[0m\u001b[1;33m\u001b[0m\u001b[1;33m\u001b[0m\u001b[0m\n\u001b[0;32m   1116\u001b[0m             \u001b[1;32mif\u001b[0m \u001b[0mengine\u001b[0m \u001b[1;33m==\u001b[0m \u001b[1;34m\"python\"\u001b[0m\u001b[1;33m:\u001b[0m\u001b[1;33m\u001b[0m\u001b[1;33m\u001b[0m\u001b[0m\n",
      "\u001b[1;32mc:\\users\\axelt\\appdata\\local\\programs\\python\\python37-32\\lib\\site-packages\\pandas\\io\\parsers.py\u001b[0m in \u001b[0;36m__init__\u001b[1;34m(self, src, **kwds)\u001b[0m\n\u001b[0;32m   1889\u001b[0m         \u001b[0mkwds\u001b[0m\u001b[1;33m[\u001b[0m\u001b[1;34m\"usecols\"\u001b[0m\u001b[1;33m]\u001b[0m \u001b[1;33m=\u001b[0m \u001b[0mself\u001b[0m\u001b[1;33m.\u001b[0m\u001b[0musecols\u001b[0m\u001b[1;33m\u001b[0m\u001b[1;33m\u001b[0m\u001b[0m\n\u001b[0;32m   1890\u001b[0m \u001b[1;33m\u001b[0m\u001b[0m\n\u001b[1;32m-> 1891\u001b[1;33m         \u001b[0mself\u001b[0m\u001b[1;33m.\u001b[0m\u001b[0m_reader\u001b[0m \u001b[1;33m=\u001b[0m \u001b[0mparsers\u001b[0m\u001b[1;33m.\u001b[0m\u001b[0mTextReader\u001b[0m\u001b[1;33m(\u001b[0m\u001b[0msrc\u001b[0m\u001b[1;33m,\u001b[0m \u001b[1;33m**\u001b[0m\u001b[0mkwds\u001b[0m\u001b[1;33m)\u001b[0m\u001b[1;33m\u001b[0m\u001b[1;33m\u001b[0m\u001b[0m\n\u001b[0m\u001b[0;32m   1892\u001b[0m         \u001b[0mself\u001b[0m\u001b[1;33m.\u001b[0m\u001b[0munnamed_cols\u001b[0m \u001b[1;33m=\u001b[0m \u001b[0mself\u001b[0m\u001b[1;33m.\u001b[0m\u001b[0m_reader\u001b[0m\u001b[1;33m.\u001b[0m\u001b[0munnamed_cols\u001b[0m\u001b[1;33m\u001b[0m\u001b[1;33m\u001b[0m\u001b[0m\n\u001b[0;32m   1893\u001b[0m \u001b[1;33m\u001b[0m\u001b[0m\n",
      "\u001b[1;32mpandas\\_libs\\parsers.pyx\u001b[0m in \u001b[0;36mpandas._libs.parsers.TextReader.__cinit__\u001b[1;34m()\u001b[0m\n",
      "\u001b[1;32mpandas\\_libs\\parsers.pyx\u001b[0m in \u001b[0;36mpandas._libs.parsers.TextReader._setup_parser_source\u001b[1;34m()\u001b[0m\n",
      "\u001b[1;31mFileNotFoundError\u001b[0m: [Errno 2] File 2019\\Febrero2019.csv does not exist: '2019\\\\Febrero2019.csv'"
     ]
    }
   ],
   "source": [
    "#Unimos todas las bases de todos los meses para contar la cantidad total de carros traidos al pais en este año\n",
    "A2019 = pd.read_csv('2019\\Enero2019.csv')\n",
    "d1 = A2019.Distintivo\n",
    "d1 = d1.count()\n",
    "\n",
    "A2019 = pd.read_csv('2019\\Febrero2019.csv')\n",
    "d2 = A2019.Distintivo\n",
    "d2 = d2.count()\n",
    "\n",
    "A2019 = pd.read_csv('2019\\Marzo2019.csv')\n",
    "d3 = A2019.Distintivo\n",
    "d3 = d3.count()\n",
    "\n",
    "A2019 = pd.read_csv('2019\\Abril2019.csv')\n",
    "d4 = A2019.Distintivo\n",
    "d4 = d4.count()\n",
    "\n",
    "A2019 = pd.read_csv('2019\\Mayo2019.csv')\n",
    "d5 = A2019.Distintivo\n",
    "d5 = d5.count()\n",
    "\n",
    "A2019 = pd.read_csv('2019\\Junio2019.csv')\n",
    "d6 = A2019.Distintivo\n",
    "d6 = d6.count()\n",
    "\n",
    "A2019 = pd.read_csv('2019\\Julio2019.csv')\n",
    "d7 = A2019.Distintivo\n",
    "d7 = d7.count()\n",
    "\n",
    "A2019 = pd.read_csv('2019\\Agosto2019.csv')\n",
    "d8 = A2019.Distintivo\n",
    "d8 = d8.count()\n",
    "\n",
    "A2019 = pd.read_csv('2019\\Septiembre2019.csv')\n",
    "d9 = A2019.Distintivo\n",
    "d9 = d9.count()\n",
    "\n",
    "A2019 = pd.read_csv('2019\\Octubre2019.csv')\n",
    "d10 = A2019.Distintivo\n",
    "d10 = d10.count()\n",
    "\n",
    "A2019 = pd.read_csv('2019\\_Noviembre2019.csv')\n",
    "d11 = A2019.Distintivo\n",
    "d11 = d11.count()\n",
    "\n",
    "A2019 = pd.read_csv('2019\\Diciembre2019.csv')\n",
    "d12 = A2019.Distintivo\n",
    "d12 = d12.count()\n",
    "\n",
    "r4 = d1 + d2 + d3 + d4 + d5 + d6 + d7 + d8 + d9 + d10 + d11 + d12\n",
    "r4"
   ]
  },
  {
   "cell_type": "raw",
   "metadata": {},
   "source": [
    "### Hacemos una gráfica para importación de vehículos \n",
    "lista2 = [r,r2,r3,r4]   \n",
    "plt.plot(lista2)   \n",
    "plt.title(\"Comparación de las tasas de crecimiento de los ultimos 4 años\")   \n",
    "plt.xlabel(\"Año\")   \n",
    "plt.ylabel(\"Numero de importaciones\")\n",
    "indice = np.arange(4)\n",
    "plt.xticks(indice, (\"2016\", \"2017\", \"2018\", \"2019\")) \n",
    "plt.plot(lista2, marker='o', linestyle='--', color='blue')\n",
    "plt.show()"
   ]
  }
 ],
 "metadata": {
  "kernelspec": {
   "display_name": "Python 3",
   "language": "python",
   "name": "python3"
  },
  "language_info": {
   "codemirror_mode": {
    "name": "ipython",
    "version": 3
   },
   "file_extension": ".py",
   "mimetype": "text/x-python",
   "name": "python",
   "nbconvert_exporter": "python",
   "pygments_lexer": "ipython3",
   "version": "3.7.3"
  }
 },
 "nbformat": 4,
 "nbformat_minor": 2
}
