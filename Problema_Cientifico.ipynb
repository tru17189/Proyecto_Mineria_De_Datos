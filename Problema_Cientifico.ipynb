{
 "cells": [
  {
   "cell_type": "code",
   "execution_count": 4,
   "metadata": {},
   "outputs": [],
   "source": [
    "# Librerias\n",
    "import numpy as np\n",
    "import matplotlib.pyplot as plt\n",
    "import pandas as pd"
   ]
  },
  {
   "cell_type": "markdown",
   "metadata": {},
   "source": [
    "# Calculo de la tasa de crecimiento del año 2016 "
   ]
  },
  {
   "cell_type": "code",
   "execution_count": 5,
   "metadata": {},
   "outputs": [
    {
     "data": {
      "text/plain": [
       "20816"
      ]
     },
     "execution_count": 5,
     "metadata": {},
     "output_type": "execute_result"
    }
   ],
   "source": [
    "#Leemos la base de datos de enero\n",
    "D2016 = pd.read_csv('2016\\Enero2016.csv')\n",
    "#Contamos la cantidad de automoviles de enero de 2016 \n",
    "sv = D2016.Distintivo\n",
    "sv = sv.count()\n",
    "sv"
   ]
  },
  {
   "cell_type": "code",
   "execution_count": 6,
   "metadata": {},
   "outputs": [
    {
     "data": {
      "text/plain": [
       "26644"
      ]
     },
     "execution_count": 6,
     "metadata": {},
     "output_type": "execute_result"
    }
   ],
   "source": [
    "#Contamos la cantidad de automoviles de diciembre de 2016 \n",
    "Di2016 = pd.read_csv('2016\\Diciembre2016.csv')\n",
    "fv = Di2016.Distintivo \n",
    "fv = fv.count()\n",
    "fv"
   ]
  },
  {
   "cell_type": "code",
   "execution_count": 7,
   "metadata": {},
   "outputs": [
    {
     "data": {
      "text/plain": [
       "27.99769408147579"
      ]
     },
     "execution_count": 7,
     "metadata": {},
     "output_type": "execute_result"
    }
   ],
   "source": [
    "#Se usa la formula de tasa de crecimiento (FinalValue - StartValue/StartValue)\n",
    "D = ((fv - sv)/sv)*100\n",
    "D\n",
    "#Como podemos ver hay una tasa de crecimiento de del 28% en el año de 2016 a partir de enero a diciembre "
   ]
  },
  {
   "cell_type": "markdown",
   "metadata": {},
   "source": [
    "# Calculo de la tasa de crecimiento del año 2017 "
   ]
  },
  {
   "cell_type": "code",
   "execution_count": 44,
   "metadata": {},
   "outputs": [
    {
     "data": {
      "text/plain": [
       "20870"
      ]
     },
     "execution_count": 44,
     "metadata": {},
     "output_type": "execute_result"
    }
   ],
   "source": [
    "#Leemos la base de datos de enero\n",
    "#D2017 = pd.read_csv('2017\\Enero2017.csv')\n",
    "#Contamos la cantidad de automoviles de enero de 2017 \n",
    "sv2 = 20870\n",
    "sv2"
   ]
  },
  {
   "cell_type": "code",
   "execution_count": 45,
   "metadata": {},
   "outputs": [
    {
     "data": {
      "text/plain": [
       "36923"
      ]
     },
     "execution_count": 45,
     "metadata": {},
     "output_type": "execute_result"
    }
   ],
   "source": [
    "#Contamos la cantidad de automoviles de diciembre de 2017\n",
    "Di2017 = pd.read_csv('2017\\Diciembre2017.csv')\n",
    "fv2 = Di2017.Distintivo \n",
    "fv2 = fv2.count()\n",
    "fv2"
   ]
  },
  {
   "cell_type": "code",
   "execution_count": 46,
   "metadata": {},
   "outputs": [
    {
     "data": {
      "text/plain": [
       "76.91902252036415"
      ]
     },
     "execution_count": 46,
     "metadata": {},
     "output_type": "execute_result"
    }
   ],
   "source": [
    "#Se usa la formula de tasa de crecimiento (FinalValue - StartValue/StartValue)\n",
    "D2 = ((fv2 - sv2)/sv2)*100\n",
    "D2\n",
    "#Como podemos ver hay una tasa de crecimiento de del 84.08% en el año de 2017 a partir de enero a diciembre "
   ]
  },
  {
   "cell_type": "markdown",
   "metadata": {},
   "source": [
    "# Calculo de la tasa de crecimiento del año 2018 "
   ]
  },
  {
   "cell_type": "code",
   "execution_count": 18,
   "metadata": {},
   "outputs": [
    {
     "data": {
      "text/plain": [
       "29999"
      ]
     },
     "execution_count": 18,
     "metadata": {},
     "output_type": "execute_result"
    }
   ],
   "source": [
    "#Leemos la base de datos de enero\n",
    "D2018 = pd.read_csv('2018\\Enero2018.csv')\n",
    "#Contamos la cantidad de automoviles de enero de 2017\n",
    "sv3 = D2018.Distintivo\n",
    "sv3 = sv3.count()\n",
    "sv3"
   ]
  },
  {
   "cell_type": "code",
   "execution_count": 29,
   "metadata": {},
   "outputs": [
    {
     "data": {
      "text/plain": [
       "28859"
      ]
     },
     "execution_count": 29,
     "metadata": {},
     "output_type": "execute_result"
    }
   ],
   "source": [
    "#Contamos la cantidad de automoviles de diciembre de 2018\n",
    "Di2018 = pd.read_csv('2018\\Diciembre2018.csv')\n",
    "fv3 = Di2018.Distintivo\n",
    "fv3 = fv3.count()\n",
    "fv3"
   ]
  },
  {
   "cell_type": "code",
   "execution_count": 30,
   "metadata": {},
   "outputs": [
    {
     "data": {
      "text/plain": [
       "-3.80012667088903"
      ]
     },
     "execution_count": 30,
     "metadata": {},
     "output_type": "execute_result"
    }
   ],
   "source": [
    "#Se usa la formula de tasa de crecimiento (FinalValue - StartValue/StartValue)\n",
    "D3 = ((fv3 - sv3)/sv3)*100\n",
    "D3\n",
    "#Como podemos ver hay una tasa de crecimiento del -3.80% en el año de 2018 a partir de enero a diciembre, \n",
    "#curiosamente de enero a diciembre hubo un crecimiento negativo a diferencia de los otros años. "
   ]
  },
  {
   "cell_type": "markdown",
   "metadata": {},
   "source": [
    "# Calculo de la tasa de crecimiento del año 2019 "
   ]
  },
  {
   "cell_type": "code",
   "execution_count": 31,
   "metadata": {},
   "outputs": [
    {
     "data": {
      "text/plain": [
       "26850"
      ]
     },
     "execution_count": 31,
     "metadata": {},
     "output_type": "execute_result"
    }
   ],
   "source": [
    "#Leemos la base de datos de enero\n",
    "D2019 = pd.read_csv('2019\\Enero2019.csv')\n",
    "#Contamos la cantidad de automoviles de enero de 2017\n",
    "sv4 = D2019.Distintivo\n",
    "sv4 = sv4.count()\n",
    "sv4"
   ]
  },
  {
   "cell_type": "code",
   "execution_count": 32,
   "metadata": {},
   "outputs": [
    {
     "data": {
      "text/plain": [
       "37387"
      ]
     },
     "execution_count": 32,
     "metadata": {},
     "output_type": "execute_result"
    }
   ],
   "source": [
    "#Contamos la cantidad de automoviles de diciembre de 2019\n",
    "Di2019 = pd.read_csv('2019\\Diciembre2019.csv')\n",
    "fv4 = Di2019.Distintivo \n",
    "fv4 = fv4.count()\n",
    "fv4"
   ]
  },
  {
   "cell_type": "code",
   "execution_count": 33,
   "metadata": {},
   "outputs": [
    {
     "data": {
      "text/plain": [
       "39.243947858473"
      ]
     },
     "execution_count": 33,
     "metadata": {},
     "output_type": "execute_result"
    }
   ],
   "source": [
    "#Se usa la formula de tasa de crecimiento (FinalValue - StartValue/StartValue)\n",
    "D4 = ((fv4 - sv4)/sv4)*100\n",
    "D4\n",
    "#Como podemos ver hay una tasa de crecimiento del 39.24% en el año de 2018 a partir de enero a diciembre"
   ]
  },
  {
   "cell_type": "markdown",
   "metadata": {},
   "source": [
    "# Comparación de los años "
   ]
  },
  {
   "cell_type": "code",
   "execution_count": 47,
   "metadata": {},
   "outputs": [
    {
     "data": {
      "image/png": "[encoded data removed]",
      "text/plain": [
       "<Figure size 432x288 with 1 Axes>"
      ]
     },
     "metadata": {
      "needs_background": "light"
     },
     "output_type": "display_data"
    }
   ],
   "source": [
    "#Hacemos una gráfica para comparar las tasas de crecimiento anual\n",
    "lista1 = [D,D2,D3,D4]   \n",
    "plt.plot(lista1)   \n",
    "plt.title(\"Comparación de las tasas de crecimiento de los ultimos 4 años\")   \n",
    "plt.xlabel(\"Año\")   \n",
    "plt.ylabel(\"Porcentaje %\")\n",
    "indice = np.arange(4)\n",
    "plt.xticks(indice, (\"2016\", \"2017\", \"2018\", \"2019\")) \n",
    "plt.plot(lista1, marker='o', linestyle='--', color='red')\n",
    "plt.show()"
   ]
  },
  {
   "cell_type": "code",
   "execution_count": 36,
   "metadata": {},
   "outputs": [
    {
     "data": {
      "text/plain": [
       "307057"
      ]
     },
     "execution_count": 36,
     "metadata": {},
     "output_type": "execute_result"
    }
   ],
   "source": [
    "#Para demostrar que este metodo si funciona tambien contamos la cantidad real de carros traidos a Guatemala segun la SAT\n",
    "#y observamos que es un número muy cercano\n",
    "A2016 = pd.read_csv('2016\\Enero2016.csv')\n",
    "a1 = A2016.Distintivo\n",
    "a1 = a1.count()\n",
    "\n",
    "A2016 = pd.read_csv('2016\\Febrero2016.csv')\n",
    "a2 = A2016.Distintivo\n",
    "a2 = a2.count()\n",
    "\n",
    "A2016 = pd.read_csv('2016\\Marzo2016.csv')\n",
    "a3 = A2016.Distintivo\n",
    "a3 = a3.count()\n",
    "\n",
    "A2016 = pd.read_csv('2016\\Mayo2016.csv')\n",
    "a5 = A2016.Distintivo\n",
    "a5 = a5.count()\n",
    "\n",
    "A2016 = pd.read_csv('2016\\Junio2016.csv')\n",
    "a6 = A2016.Distintivo\n",
    "a6 = a6.count()\n",
    "\n",
    "A2016 = pd.read_csv('2016\\Julio2016.csv')\n",
    "a7 = A2016.Distintivo\n",
    "a7 = a7.count()\n",
    "\n",
    "A2016 = pd.read_csv('2016\\Agosto2016.csv')\n",
    "a8 = A2016.Distintivo\n",
    "a8 = a8.count()\n",
    "\n",
    "A2016 = pd.read_csv('2016\\Octubre2016.csv')\n",
    "a10 = A2016.Distintivo\n",
    "a10 = a10.count()\n",
    "\n",
    "A2016 = pd.read_csv('2016\\Diciembre2016.csv')\n",
    "a12 = A2016.Distintivo\n",
    "a12 = a12.count()\n",
    "\n",
    "r = a1 + a2 + a3 + 21535 + a5 + a6 + a7 + a8 + 27528 + a10 + 34188 + a12\n",
    "r\n",
    "#A partir de ahora terminaremos de sacar la cantidad de carros aproximadamente con el primer metodo "
   ]
  },
  {
   "cell_type": "code",
   "execution_count": null,
   "metadata": {},
   "outputs": [],
   "source": [
    "#Para demostrar que este metodo si funciona tambien contamos la cantidad real de carros traidos a Guatemala segun la SAT\n",
    "#y observamos que es un número muy cercano\n",
    "A2017 = pd.read_csv('2017\\Febrero2017.csv')\n",
    "b2 = A2017.Distintivo\n",
    "b2 = b2.count()\n",
    "\n",
    "A2017 = pd.read_csv('2017\\Marzo2017.csv')\n",
    "b3 = A2017.Distintivo\n",
    "b3 = b3.count()\n",
    "\n",
    "A2017 = pd.read_csv('2017\\Abril2017.csv')\n",
    "b4 = A2017.Distintivo\n",
    "b4 = b4.count()\n",
    "\n",
    "A2017 = pd.read_csv('2017\\Mayo2017.csv')\n",
    "b5 = A2017.Distintivo\n",
    "b5 = b5.count()\n",
    "\n",
    "A2017 = pd.read_csv('2017\\Junio2017.csv')\n",
    "b6 = A2017.Distintivo\n",
    "b6 = b6.count()\n",
    "\n",
    "A2017 = pd.read_csv('2017\\Julio2017.csv')\n",
    "b7 = A2017.Distintivo\n",
    "b7 = b7.count()\n",
    "\n",
    "A2017 = pd.read_csv('2017\\Agosto2017.csv')\n",
    "b8 = A2017.Distintivo\n",
    "b8 = b8.count()\n",
    "\n",
    "A2017 = pd.read_csv('2017\\Septiembre2017.csv')\n",
    "b9 = A2017.Distintivo\n",
    "b9 = b9.count()\n",
    "\n",
    "A2017 = pd.read_csv('2017\\Octubre2017.csv')\n",
    "b10 = A2017.Distintivo\n",
    "b10 = b10.count()\n",
    "\n",
    "A2017 = pd.read_csv('2017\\Noviembre2017.csv')\n",
    "b11 = A2017.Distintivo\n",
    "b11 = b11.count()\n",
    "\n",
    "A2017 = pd.read_csv('2017\\Diciembre2017.csv')\n",
    "b12 = A2017.Distintivo\n",
    "b12 = b12.count()\n",
    "\n",
    "r2 = 20870 + b2 + b3 + b4 + b5 + b6 + b7 + b8 + b9 + b10 + b11 + a12\n",
    "r2\n",
    "#A partir de ahora terminaremos de sacar la cantidad de carros aproximadamente con el primer metodo "
   ]
  },
  {
   "cell_type": "code",
   "execution_count": 31,
   "metadata": {},
   "outputs": [
    {
     "data": {
      "text/plain": [
       "234592.17999999996"
      ]
     },
     "execution_count": 31,
     "metadata": {},
     "output_type": "execute_result"
    }
   ],
   "source": [
    "#Cuantos carros se trajeron a Guatemala en el 2018 aproximadamente \n",
    "A2018 = sv3 +((sv3 + (sv3*-0.380))*11)\n",
    "A2018"
   ]
  },
  {
   "cell_type": "code",
   "execution_count": 33,
   "metadata": {},
   "outputs": [
    {
     "data": {
      "text/plain": [
       "438095.34"
      ]
     },
     "execution_count": 33,
     "metadata": {},
     "output_type": "execute_result"
    }
   ],
   "source": [
    "#Cuantos carros se trajeron a Guatemala en el 2018 aproximadamente \n",
    "A2019 = sv4 +((sv4 + (sv4*0.3924))*11)\n",
    "A2019"
   ]
  },
  {
   "cell_type": "code",
   "execution_count": 63,
   "metadata": {},
   "outputs": [
    {
     "data": {
      "image/png": "[encoded data removed]",
      "text/plain": [
       "<Figure size 432x288 with 1 Axes>"
      ]
     },
     "metadata": {
      "needs_background": "light"
     },
     "output_type": "display_data"
    }
   ],
   "source": [
    "#Hacemos una gráfica para importación de vehículos \n",
    "lista2 = [r,A2017,A2018,A2019]   \n",
    "plt.plot(lista2)   \n",
    "plt.title(\"Comparación de las tasas de crecimiento de los ultimos 4 años\")   \n",
    "plt.xlabel(\"Año\")   \n",
    "plt.ylabel(\"Numero de importaciones\")\n",
    "indice = np.arange(4)\n",
    "plt.xticks(indice, (\"2016\", \"2017\", \"2018\", \"2019\")) \n",
    "plt.plot(lista2, marker='o', linestyle='--', color='blue')\n",
    "plt.show()"
   ]
  }
 ],
 "metadata": {
  "kernelspec": {
   "display_name": "Python 3",
   "language": "python",
   "name": "python3"
  },
  "language_info": {
   "codemirror_mode": {
    "name": "ipython",
    "version": 3
   },
   "file_extension": ".py",
   "mimetype": "text/x-python",
   "name": "python",
   "nbconvert_exporter": "python",
   "pygments_lexer": "ipython3",
   "version": "3.7.3"
  }
 },
 "nbformat": 4,
 "nbformat_minor": 2
}
