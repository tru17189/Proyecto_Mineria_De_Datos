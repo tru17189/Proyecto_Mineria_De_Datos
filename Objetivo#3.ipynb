{
 "cells": [
  {
   "cell_type": "code",
   "execution_count": 1,
   "metadata": {},
   "outputs": [],
   "source": [
    "import numpy as np\n",
    "import matplotlib.pyplot as plt\n",
    "import pandas as pd"
   ]
  },
  {
   "cell_type": "code",
   "execution_count": 2,
   "metadata": {},
   "outputs": [
    {
     "data": {
      "text/html": [
       "<div>\n",
       "<style scoped>\n",
       "    .dataframe tbody tr th:only-of-type {\n",
       "        vertical-align: middle;\n",
       "    }\n",
       "\n",
       "    .dataframe tbody tr th {\n",
       "        vertical-align: top;\n",
       "    }\n",
       "\n",
       "    .dataframe thead th {\n",
       "        text-align: right;\n",
       "    }\n",
       "</style>\n",
       "<table border=\"1\" class=\"dataframe\">\n",
       "  <thead>\n",
       "    <tr style=\"text-align: right;\">\n",
       "      <th></th>\n",
       "      <th>Pais_de_Proveniencia</th>\n",
       "      <th>Aduana de Ingreso</th>\n",
       "      <th>Fecha de la Poliza</th>\n",
       "      <th>Partida Arancelaria</th>\n",
       "      <th>Modelo_del_Vehiculo</th>\n",
       "      <th>Marca</th>\n",
       "      <th>Linea</th>\n",
       "      <th>Centimetros Cubicos</th>\n",
       "      <th>Distintivo</th>\n",
       "      <th>Tipo_de_Vehiculo</th>\n",
       "      <th>Tipo de Importador</th>\n",
       "      <th>Tipo Combustible</th>\n",
       "      <th>Asientos</th>\n",
       "      <th>Puertas</th>\n",
       "      <th>Tonelaje</th>\n",
       "      <th>Valor CIF</th>\n",
       "      <th>Impuesto</th>\n",
       "      <th>Impuesto;;</th>\n",
       "    </tr>\n",
       "  </thead>\n",
       "  <tbody>\n",
       "    <tr>\n",
       "      <th>0</th>\n",
       "      <td>ESTADOS UNIDOS</td>\n",
       "      <td>PUERTO BARRIOS</td>\n",
       "      <td>14/01/2016</td>\n",
       "      <td>87032379</td>\n",
       "      <td>2007</td>\n",
       "      <td>ACURA</td>\n",
       "      <td>TSX</td>\n",
       "      <td>2400</td>\n",
       "      <td>LIVIANO</td>\n",
       "      <td>AUTOMOVIL</td>\n",
       "      <td>OCASIONAL</td>\n",
       "      <td>GASOLINA</td>\n",
       "      <td>5</td>\n",
       "      <td>4</td>\n",
       "      <td>0.0</td>\n",
       "      <td>19573.22</td>\n",
       "      <td>2348.79</td>\n",
       "      <td>;;</td>\n",
       "    </tr>\n",
       "    <tr>\n",
       "      <th>1</th>\n",
       "      <td>JAPON</td>\n",
       "      <td>PUERTO QUETZAL</td>\n",
       "      <td>26/01/2016</td>\n",
       "      <td>87032369</td>\n",
       "      <td>2002</td>\n",
       "      <td>ACURA</td>\n",
       "      <td>RSX TYPE-S</td>\n",
       "      <td>2000</td>\n",
       "      <td>LIVIANO</td>\n",
       "      <td>AUTOMOVIL</td>\n",
       "      <td>OCASIONAL</td>\n",
       "      <td>GASOLINA</td>\n",
       "      <td>4</td>\n",
       "      <td>2</td>\n",
       "      <td>0.0</td>\n",
       "      <td>17120.19</td>\n",
       "      <td>2054.42</td>\n",
       "      <td>;;</td>\n",
       "    </tr>\n",
       "    <tr>\n",
       "      <th>2</th>\n",
       "      <td>ESTADOS UNIDOS</td>\n",
       "      <td>PUERTO BARRIOS</td>\n",
       "      <td>09/01/2016</td>\n",
       "      <td>87032369</td>\n",
       "      <td>2004</td>\n",
       "      <td>ACURA</td>\n",
       "      <td>RSX</td>\n",
       "      <td>2000</td>\n",
       "      <td>LIVIANO</td>\n",
       "      <td>AUTOMOVIL</td>\n",
       "      <td>OCASIONAL</td>\n",
       "      <td>GASOLINA</td>\n",
       "      <td>5</td>\n",
       "      <td>2</td>\n",
       "      <td>0.0</td>\n",
       "      <td>11265.14</td>\n",
       "      <td>1351.82</td>\n",
       "      <td>;;</td>\n",
       "    </tr>\n",
       "    <tr>\n",
       "      <th>3</th>\n",
       "      <td>ESTADOS UNIDOS</td>\n",
       "      <td>PUERTO BARRIOS</td>\n",
       "      <td>27/01/2016</td>\n",
       "      <td>87032369</td>\n",
       "      <td>2003</td>\n",
       "      <td>ACURA</td>\n",
       "      <td>RSX</td>\n",
       "      <td>2000</td>\n",
       "      <td>LIVIANO</td>\n",
       "      <td>AUTOMOVIL</td>\n",
       "      <td>OCASIONAL</td>\n",
       "      <td>GASOLINA</td>\n",
       "      <td>4</td>\n",
       "      <td>2</td>\n",
       "      <td>0.0</td>\n",
       "      <td>8388.88</td>\n",
       "      <td>1006.67</td>\n",
       "      <td>;;</td>\n",
       "    </tr>\n",
       "    <tr>\n",
       "      <th>4</th>\n",
       "      <td>ESTADOS UNIDOS</td>\n",
       "      <td>PUERTO BARRIOS</td>\n",
       "      <td>23/01/2016</td>\n",
       "      <td>87032369</td>\n",
       "      <td>1997</td>\n",
       "      <td>ACURA</td>\n",
       "      <td>INTEGRA</td>\n",
       "      <td>1800</td>\n",
       "      <td>LIVIANO</td>\n",
       "      <td>AUTOMOVIL</td>\n",
       "      <td>OCASIONAL</td>\n",
       "      <td>GASOLINA</td>\n",
       "      <td>4</td>\n",
       "      <td>2</td>\n",
       "      <td>0.0</td>\n",
       "      <td>12081.31</td>\n",
       "      <td>1449.76</td>\n",
       "      <td>;;</td>\n",
       "    </tr>\n",
       "  </tbody>\n",
       "</table>\n",
       "</div>"
      ],
      "text/plain": [
       "  Pais_de_Proveniencia Aduana de Ingreso  Fecha de la Poliza  \\\n",
       "0       ESTADOS UNIDOS    PUERTO BARRIOS          14/01/2016   \n",
       "1                JAPON    PUERTO QUETZAL          26/01/2016   \n",
       "2       ESTADOS UNIDOS    PUERTO BARRIOS          09/01/2016   \n",
       "3       ESTADOS UNIDOS    PUERTO BARRIOS          27/01/2016   \n",
       "4       ESTADOS UNIDOS    PUERTO BARRIOS          23/01/2016   \n",
       "\n",
       "   Partida Arancelaria  Modelo_del_Vehiculo  Marca       Linea  \\\n",
       "0             87032379                 2007  ACURA         TSX   \n",
       "1             87032369                 2002  ACURA  RSX TYPE-S   \n",
       "2             87032369                 2004  ACURA         RSX   \n",
       "3             87032369                 2003  ACURA         RSX   \n",
       "4             87032369                 1997  ACURA     INTEGRA   \n",
       "\n",
       "   Centimetros Cubicos Distintivo Tipo_de_Vehiculo Tipo de Importador  \\\n",
       "0                 2400    LIVIANO        AUTOMOVIL          OCASIONAL   \n",
       "1                 2000    LIVIANO        AUTOMOVIL          OCASIONAL   \n",
       "2                 2000    LIVIANO        AUTOMOVIL          OCASIONAL   \n",
       "3                 2000    LIVIANO        AUTOMOVIL          OCASIONAL   \n",
       "4                 1800    LIVIANO        AUTOMOVIL          OCASIONAL   \n",
       "\n",
       "  Tipo Combustible  Asientos  Puertas  Tonelaje  Valor CIF  Impuesto  \\\n",
       "0         GASOLINA         5        4       0.0   19573.22   2348.79   \n",
       "1         GASOLINA         4        2       0.0   17120.19   2054.42   \n",
       "2         GASOLINA         5        2       0.0   11265.14   1351.82   \n",
       "3         GASOLINA         4        2       0.0    8388.88   1006.67   \n",
       "4         GASOLINA         4        2       0.0   12081.31   1449.76   \n",
       "\n",
       "  Impuesto;;  \n",
       "0         ;;  \n",
       "1         ;;  \n",
       "2         ;;  \n",
       "3         ;;  \n",
       "4         ;;  "
      ]
     },
     "execution_count": 2,
     "metadata": {},
     "output_type": "execute_result"
    }
   ],
   "source": [
    "#Vamos a ver como se ven en un cluster los impuestos y Valor CIF, lo hacemos con estos datos ya que son los \n",
    "#unicos dos que revelan información monetaria en la base de datos y vamos a ver que tanta relación tienen \n",
    "ene2016 = pd.read_csv('2016\\TodoJunto.csv')\n",
    "ene2016.head()"
   ]
  },
  {
   "cell_type": "code",
   "execution_count": 236,
   "metadata": {},
   "outputs": [],
   "source": [
    "X = ene2016.iloc[:, [15, 16]].values\n",
    "y = ene2016.iloc[:, 15].values"
   ]
  },
  {
   "cell_type": "code",
   "execution_count": 237,
   "metadata": {},
   "outputs": [],
   "source": [
    "from sklearn.model_selection import train_test_split\n",
    "X_train, X_test, y_train, y_test = train_test_split(X, y, test_size = 0.2, random_state = 0)"
   ]
  },
  {
   "cell_type": "code",
   "execution_count": 238,
   "metadata": {},
   "outputs": [],
   "source": [
    "from sklearn.preprocessing import StandardScaler\n",
    "sc_X = StandardScaler()\n",
    "X_train = sc_X.fit_transform(X_train.reshape(-1,1))\n",
    "X_test = sc_X.transform(X_test)\n",
    "sc_y = StandardScaler()\n",
    "y_train = sc_y.fit_transform(y_train.reshape(-1,1))"
   ]
  },
  {
   "cell_type": "code",
   "execution_count": 239,
   "metadata": {},
   "outputs": [
    {
     "data": {
      "image/png": "[encoded data removed]",
      "text/plain": [
       "<Figure size 432x288 with 1 Axes>"
      ]
     },
     "metadata": {
      "needs_background": "light"
     },
     "output_type": "display_data"
    }
   ],
   "source": [
    "from sklearn.cluster import KMeans\n",
    "wcss = []\n",
    "for i in range(1, 11):\n",
    "    kmeans = KMeans(n_clusters = i, init = 'k-means++', random_state = 42)\n",
    "    kmeans.fit(X)\n",
    "    wcss.append(kmeans.inertia_)\n",
    "plt.plot(range(1, 11), wcss)\n",
    "plt.title('Clustering sobre impuestos')\n",
    "plt.xlabel('Impuestos')\n",
    "plt.ylabel('Valor CIF')\n",
    "plt.show()"
   ]
  },
  {
   "cell_type": "code",
   "execution_count": 240,
   "metadata": {},
   "outputs": [],
   "source": [
    "kmeans = KMeans(n_clusters = 5, init = 'k-means++', random_state = 42)\n",
    "y_kmeans = kmeans.fit_predict(X)"
   ]
  },
  {
   "cell_type": "code",
   "execution_count": 241,
   "metadata": {},
   "outputs": [
    {
     "data": {
      "image/png": "[encoded data removed]",
      "text/plain": [
       "<Figure size 432x288 with 1 Axes>"
      ]
     },
     "metadata": {
      "needs_background": "light"
     },
     "output_type": "display_data"
    }
   ],
   "source": [
    "plt.scatter(X[y_kmeans == 0, 0], X[y_kmeans == 0, 1], s = 50, c = 'red', label = 'Impuestos 1')\n",
    "plt.scatter(X[y_kmeans == 1, 0], X[y_kmeans == 1, 1], s = 50, c = 'blue', label = 'Valor CIF')\n",
    "plt.scatter(X[y_kmeans == 2, 0], X[y_kmeans == 2, 1], s = 50, c = 'green', label = 'Impuestos 2')\n",
    "plt.scatter(kmeans.cluster_centers_[:, 0], kmeans.cluster_centers_[:, 1], s = 200, c = 'yellow', label = 'Centroids')\n",
    "plt.title('Clusters de Impuestos')\n",
    "plt.xlabel('Impuestos')\n",
    "plt.ylabel('Valor CIF')\n",
    "plt.legend()\n",
    "plt.show()"
   ]
  }
 ],
 "metadata": {
  "kernelspec": {
   "display_name": "Python 3",
   "language": "python",
   "name": "python3"
  },
  "language_info": {
   "codemirror_mode": {
    "name": "ipython",
    "version": 3
   },
   "file_extension": ".py",
   "mimetype": "text/x-python",
   "name": "python",
   "nbconvert_exporter": "python",
   "pygments_lexer": "ipython3",
   "version": "3.7.3"
  }
 },
 "nbformat": 4,
 "nbformat_minor": 2
}
