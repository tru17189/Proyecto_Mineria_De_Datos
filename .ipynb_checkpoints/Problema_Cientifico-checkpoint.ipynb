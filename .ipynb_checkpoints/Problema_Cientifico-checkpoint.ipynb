{
 "cells": [
  {
   "cell_type": "code",
   "execution_count": 1,
   "metadata": {},
   "outputs": [],
   "source": [
    "# Librerias\n",
    "import numpy as np\n",
    "import matplotlib.pyplot as plt\n",
    "import pandas as pd"
   ]
  },
  {
   "cell_type": "markdown",
   "metadata": {},
   "source": [
    "# Calculo de la tasa de crecimiento del año 2016 "
   ]
  },
  {
   "cell_type": "code",
   "execution_count": 2,
   "metadata": {},
   "outputs": [
    {
     "data": {
      "text/plain": [
       "20816"
      ]
     },
     "execution_count": 2,
     "metadata": {},
     "output_type": "execute_result"
    }
   ],
   "source": [
    "#Leemos la base de datos de enero\n",
    "D2016 = pd.read_csv('2016\\Enero2016.csv')\n",
    "#Contamos la cantidad de automoviles de enero de 2016 \n",
    "sv = D2016.Distintivo\n",
    "sv = sv.count()\n",
    "sv"
   ]
  },
  {
   "cell_type": "code",
   "execution_count": 3,
   "metadata": {},
   "outputs": [
    {
     "data": {
      "text/plain": [
       "26644"
      ]
     },
     "execution_count": 3,
     "metadata": {},
     "output_type": "execute_result"
    }
   ],
   "source": [
    "#Contamos la cantidad de automoviles de diciembre de 2016 \n",
    "Di2016 = pd.read_csv('2016\\Diciembre2016.csv')\n",
    "fv = Di2016.Distintivo \n",
    "fv = fv.count()\n",
    "fv"
   ]
  },
  {
   "cell_type": "code",
   "execution_count": 4,
   "metadata": {},
   "outputs": [
    {
     "data": {
      "text/plain": [
       "27.99769408147579"
      ]
     },
     "execution_count": 4,
     "metadata": {},
     "output_type": "execute_result"
    }
   ],
   "source": [
    "#Se usa la formula de tasa de crecimiento (FinalValue - StartValue/StartValue)\n",
    "D = ((fv - sv)/sv)*100\n",
    "D\n",
    "#Como podemos ver hay una tasa de crecimiento de del 28% en el año de 2016 a partir de enero a diciembre "
   ]
  },
  {
   "cell_type": "markdown",
   "metadata": {},
   "source": [
    "# Calculo de la tasa de crecimiento del año 2017 "
   ]
  },
  {
   "cell_type": "code",
   "execution_count": 24,
   "metadata": {},
   "outputs": [
    {
     "data": {
      "text/plain": [
       "20058"
      ]
     },
     "execution_count": 24,
     "metadata": {},
     "output_type": "execute_result"
    }
   ],
   "source": [
    "#Leemos la base de datos de enero\n",
    "D2017 = pd.read_csv('2017\\Enero2017.csv')\n",
    "#Contamos la cantidad de automoviles de enero de 2017 \n",
    "sv2 = D2017.Distintivo\n",
    "sv2 = sv2.count()\n",
    "sv2"
   ]
  },
  {
   "cell_type": "code",
   "execution_count": 26,
   "metadata": {},
   "outputs": [
    {
     "data": {
      "text/plain": [
       "36923"
      ]
     },
     "execution_count": 26,
     "metadata": {},
     "output_type": "execute_result"
    }
   ],
   "source": [
    "#Contamos la cantidad de automoviles de diciembre de 2017\n",
    "Di2017 = pd.read_csv('2017\\Diciembre2017.csv')\n",
    "fv2 = Di2017.Distintivo \n",
    "fv2 = fv2.count()\n",
    "fv2"
   ]
  },
  {
   "cell_type": "code",
   "execution_count": 27,
   "metadata": {},
   "outputs": [
    {
     "data": {
      "text/plain": [
       "84.08116462259447"
      ]
     },
     "execution_count": 27,
     "metadata": {},
     "output_type": "execute_result"
    }
   ],
   "source": [
    "#Se usa la formula de tasa de crecimiento (FinalValue - StartValue/StartValue)\n",
    "D2 = ((fv2 - sv2)/sv2)*100\n",
    "D2\n",
    "#Como podemos ver hay una tasa de crecimiento de del 84.08% en el año de 2017 a partir de enero a diciembre "
   ]
  },
  {
   "cell_type": "markdown",
   "metadata": {},
   "source": [
    "# Calculo de la tasa de crecimiento del año 2018 "
   ]
  },
  {
   "cell_type": "code",
   "execution_count": 8,
   "metadata": {},
   "outputs": [
    {
     "data": {
      "text/plain": [
       "29999"
      ]
     },
     "execution_count": 8,
     "metadata": {},
     "output_type": "execute_result"
    }
   ],
   "source": [
    "#Leemos la base de datos de enero\n",
    "D2018 = pd.read_csv('2018\\Enero2018.csv')\n",
    "#Contamos la cantidad de automoviles de enero de 2017\n",
    "sv3 = D2018.Distintivo\n",
    "sv3 = sv3.count()\n",
    "sv3"
   ]
  },
  {
   "cell_type": "code",
   "execution_count": 9,
   "metadata": {},
   "outputs": [
    {
     "data": {
      "text/plain": [
       "28859"
      ]
     },
     "execution_count": 9,
     "metadata": {},
     "output_type": "execute_result"
    }
   ],
   "source": [
    "#Contamos la cantidad de automoviles de diciembre de 2018\n",
    "Di2018 = pd.read_csv('2018\\Diciembre2018.csv')\n",
    "fv3 = Di2018.Distintivo \n",
    "fv3 = fv3.count()\n",
    "fv3"
   ]
  },
  {
   "cell_type": "code",
   "execution_count": 17,
   "metadata": {},
   "outputs": [
    {
     "data": {
      "text/plain": [
       "-3.80012667088903"
      ]
     },
     "execution_count": 17,
     "metadata": {},
     "output_type": "execute_result"
    }
   ],
   "source": [
    "#Se usa la formula de tasa de crecimiento (FinalValue - StartValue/StartValue)\n",
    "D3 = ((fv3 - sv3)/sv3)*100\n",
    "D3\n",
    "#Como podemos ver hay una tasa de crecimiento del -3.80% en el año de 2018 a partir de enero a diciembre, \n",
    "#curiosamente de enero a diciembre hubo un crecimiento negativo a diferencia de los otros años. "
   ]
  },
  {
   "cell_type": "markdown",
   "metadata": {},
   "source": [
    "# Calculo de la tasa de crecimiento del año 2019 "
   ]
  },
  {
   "cell_type": "code",
   "execution_count": 11,
   "metadata": {},
   "outputs": [
    {
     "data": {
      "text/plain": [
       "26850"
      ]
     },
     "execution_count": 11,
     "metadata": {},
     "output_type": "execute_result"
    }
   ],
   "source": [
    "#Leemos la base de datos de enero\n",
    "D2019 = pd.read_csv('2019\\Enero2019.csv')\n",
    "#Contamos la cantidad de automoviles de enero de 2017\n",
    "sv4 = D2019.Distintivo\n",
    "sv4 = sv4.count()\n",
    "sv4"
   ]
  },
  {
   "cell_type": "code",
   "execution_count": 12,
   "metadata": {},
   "outputs": [
    {
     "data": {
      "text/plain": [
       "37387"
      ]
     },
     "execution_count": 12,
     "metadata": {},
     "output_type": "execute_result"
    }
   ],
   "source": [
    "#Contamos la cantidad de automoviles de diciembre de 2019\n",
    "Di2019 = pd.read_csv('2019\\Diciembre2019.csv')\n",
    "fv4 = Di2019.Distintivo \n",
    "fv4 = fv4.count()\n",
    "fv4"
   ]
  },
  {
   "cell_type": "code",
   "execution_count": 14,
   "metadata": {},
   "outputs": [
    {
     "data": {
      "text/plain": [
       "39.243947858473"
      ]
     },
     "execution_count": 14,
     "metadata": {},
     "output_type": "execute_result"
    }
   ],
   "source": [
    "#Se usa la formula de tasa de crecimiento (FinalValue - StartValue/StartValue)\n",
    "D4 = ((fv4 - sv4)/sv4)*100\n",
    "D4\n",
    "#Como podemos ver hay una tasa de crecimiento del 39.24% en el año de 2018 a partir de enero a diciembre"
   ]
  },
  {
   "cell_type": "markdown",
   "metadata": {},
   "source": [
    "# Comparación de los años "
   ]
  },
  {
   "cell_type": "code",
   "execution_count": 43,
   "metadata": {},
   "outputs": [
    {
     "data": {
      "image/png": "[encoded data removed]",
      "text/plain": [
       "<Figure size 432x288 with 1 Axes>"
      ]
     },
     "metadata": {
      "needs_background": "light"
     },
     "output_type": "display_data"
    }
   ],
   "source": [
    "#Hacemos una gráfica para comparar las tasas de crecimiento anual\n",
    "lista1 = [D,D2,D3,D4]   \n",
    "plt.plot(lista1)   \n",
    "plt.title(\"Comparación de las tasas de crecimiento de los ultimos 4 años\")   \n",
    "plt.xlabel(\"Año\")   \n",
    "plt.ylabel(\"Porcentaje %\")\n",
    "indice = np.arange(4)\n",
    "plt.xticks(indice, (\"2016\", \"2017\", \"2018\", \"2019\")) \n",
    "plt.plot(lista1, marker='o', linestyle='--', color='red')\n",
    "plt.show()"
   ]
  }
 ],
 "metadata": {
  "kernelspec": {
   "display_name": "Python 3",
   "language": "python",
   "name": "python3"
  },
  "language_info": {
   "codemirror_mode": {
    "name": "ipython",
    "version": 3
   },
   "file_extension": ".py",
   "mimetype": "text/x-python",
   "name": "python",
   "nbconvert_exporter": "python",
   "pygments_lexer": "ipython3",
   "version": "3.7.3"
  }
 },
 "nbformat": 4,
 "nbformat_minor": 2
}
